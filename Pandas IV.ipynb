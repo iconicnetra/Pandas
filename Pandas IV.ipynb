{
 "cells": [
  {
   "cell_type": "markdown",
   "metadata": {},
   "source": [
    "Data Structure"
   ]
  },
  {
   "cell_type": "code",
   "execution_count": 108,
   "metadata": {},
   "outputs": [],
   "source": [
    "import pandas as pd\n",
    "import numpy as np"
   ]
  },
  {
   "cell_type": "code",
   "execution_count": 109,
   "metadata": {},
   "outputs": [
    {
     "data": {
      "text/plain": [
       "A   -1.989683\n",
       "B    0.820496\n",
       "C   -1.466282\n",
       "D   -1.562445\n",
       "E    1.325341\n",
       "dtype: float64"
      ]
     },
     "execution_count": 109,
     "metadata": {},
     "output_type": "execute_result"
    }
   ],
   "source": [
    "#Creating Data structures\n",
    "s = pd.Series(np.random.randn(5), index=['A', 'B', 'C', 'D', 'E'])\n",
    "s"
   ]
  },
  {
   "cell_type": "code",
   "execution_count": 110,
   "metadata": {},
   "outputs": [
    {
     "data": {
      "text/plain": [
       "Index(['A', 'B', 'C', 'D', 'E'], dtype='object')"
      ]
     },
     "execution_count": 110,
     "metadata": {},
     "output_type": "execute_result"
    }
   ],
   "source": [
    "s.index"
   ]
  },
  {
   "cell_type": "code",
   "execution_count": 111,
   "metadata": {},
   "outputs": [
    {
     "data": {
      "text/plain": [
       "0   -1.160148\n",
       "1   -1.204139\n",
       "2   -0.496282\n",
       "3    1.785130\n",
       "4   -1.147066\n",
       "5    1.116241\n",
       "6   -1.189074\n",
       "7    1.070607\n",
       "8    2.621795\n",
       "9    0.031915\n",
       "dtype: float64"
      ]
     },
     "execution_count": 111,
     "metadata": {},
     "output_type": "execute_result"
    }
   ],
   "source": [
    "a = pd.Series(np.random.randn(10))\n",
    "a"
   ]
  },
  {
   "cell_type": "code",
   "execution_count": 112,
   "metadata": {},
   "outputs": [
    {
     "data": {
      "text/plain": [
       "{'a': 11.0, 'b': 22.0, 'C': 33.0, 'd': 44.0}"
      ]
     },
     "execution_count": 112,
     "metadata": {},
     "output_type": "execute_result"
    }
   ],
   "source": [
    "#Creating through dictionaries\n",
    "d = {'a':11.0, 'b': 22.0, 'C': 33.0, 'd': 44.0}\n",
    "d"
   ]
  },
  {
   "cell_type": "code",
   "execution_count": 113,
   "metadata": {},
   "outputs": [
    {
     "data": {
      "text/plain": [
       "a    11.0\n",
       "b    22.0\n",
       "C    33.0\n",
       "d    44.0\n",
       "dtype: float64"
      ]
     },
     "execution_count": 113,
     "metadata": {},
     "output_type": "execute_result"
    }
   ],
   "source": [
    "pd.Series(d)"
   ]
  },
  {
   "cell_type": "code",
   "execution_count": 114,
   "metadata": {},
   "outputs": [
    {
     "data": {
      "text/plain": [
       "{'a': 11.0, 'b': 22.0, 'C': 33.0, 'd': 44.0}"
      ]
     },
     "execution_count": 114,
     "metadata": {},
     "output_type": "execute_result"
    }
   ],
   "source": [
    "pd.Series(d, index=['b', 'c', 'd', 'a', 'e'])\n",
    "d"
   ]
  },
  {
   "cell_type": "code",
   "execution_count": 115,
   "metadata": {},
   "outputs": [
    {
     "data": {
      "text/plain": [
       "a    5.0\n",
       "b    5.0\n",
       "c    5.0\n",
       "d    5.0\n",
       "e    5.0\n",
       "dtype: float64"
      ]
     },
     "execution_count": 115,
     "metadata": {},
     "output_type": "execute_result"
    }
   ],
   "source": [
    "pd.Series(5.0, index=['a', 'b', 'c', 'd', 'e']) #Generates same data"
   ]
  },
  {
   "cell_type": "code",
   "execution_count": 116,
   "metadata": {},
   "outputs": [
    {
     "data": {
      "text/plain": [
       "0   -1.160148\n",
       "1   -1.204139\n",
       "2   -0.496282\n",
       "3    1.785130\n",
       "4   -1.147066\n",
       "5    1.116241\n",
       "6   -1.189074\n",
       "7    1.070607\n",
       "8    2.621795\n",
       "9    0.031915\n",
       "dtype: float64"
      ]
     },
     "execution_count": 116,
     "metadata": {},
     "output_type": "execute_result"
    }
   ],
   "source": [
    "a"
   ]
  },
  {
   "cell_type": "code",
   "execution_count": 117,
   "metadata": {},
   "outputs": [
    {
     "data": {
      "text/plain": [
       "-1.1601482707017388"
      ]
     },
     "execution_count": 117,
     "metadata": {},
     "output_type": "execute_result"
    }
   ],
   "source": [
    "#Series in ndarry-like\n",
    "a.iloc[0]"
   ]
  },
  {
   "cell_type": "code",
   "execution_count": 118,
   "metadata": {},
   "outputs": [
    {
     "data": {
      "text/plain": [
       "-0.49628217451577133"
      ]
     },
     "execution_count": 118,
     "metadata": {},
     "output_type": "execute_result"
    }
   ],
   "source": [
    "a.iloc[2]"
   ]
  },
  {
   "cell_type": "code",
   "execution_count": 119,
   "metadata": {},
   "outputs": [
    {
     "data": {
      "text/plain": [
       "1.1162407423849263"
      ]
     },
     "execution_count": 119,
     "metadata": {},
     "output_type": "execute_result"
    }
   ],
   "source": [
    "a.iloc[5]"
   ]
  },
  {
   "cell_type": "code",
   "execution_count": 120,
   "metadata": {},
   "outputs": [
    {
     "data": {
      "text/plain": [
       "0   -1.160148\n",
       "1   -1.204139\n",
       "2   -0.496282\n",
       "3    1.785130\n",
       "4   -1.147066\n",
       "5    1.116241\n",
       "6   -1.189074\n",
       "7    1.070607\n",
       "8    2.621795\n",
       "9    0.031915\n",
       "dtype: float64"
      ]
     },
     "execution_count": 120,
     "metadata": {},
     "output_type": "execute_result"
    }
   ],
   "source": [
    "a.iloc[:]"
   ]
  },
  {
   "cell_type": "code",
   "execution_count": 121,
   "metadata": {},
   "outputs": [
    {
     "data": {
      "text/plain": [
       "1   -1.204139\n",
       "2   -0.496282\n",
       "dtype: float64"
      ]
     },
     "execution_count": 121,
     "metadata": {},
     "output_type": "execute_result"
    }
   ],
   "source": [
    "a.iloc[1:3]"
   ]
  },
  {
   "cell_type": "code",
   "execution_count": 122,
   "metadata": {},
   "outputs": [
    {
     "data": {
      "text/plain": [
       "2   -0.496282\n",
       "3    1.785130\n",
       "4   -1.147066\n",
       "5    1.116241\n",
       "6   -1.189074\n",
       "7    1.070607\n",
       "8    2.621795\n",
       "9    0.031915\n",
       "dtype: float64"
      ]
     },
     "execution_count": 122,
     "metadata": {},
     "output_type": "execute_result"
    }
   ],
   "source": [
    "a.iloc[2:10]"
   ]
  },
  {
   "cell_type": "code",
   "execution_count": 123,
   "metadata": {},
   "outputs": [
    {
     "data": {
      "text/plain": [
       "-0.2321833678132609"
      ]
     },
     "execution_count": 123,
     "metadata": {},
     "output_type": "execute_result"
    }
   ],
   "source": [
    "a.median()"
   ]
  },
  {
   "cell_type": "code",
   "execution_count": 124,
   "metadata": {},
   "outputs": [
    {
     "data": {
      "text/plain": [
       "3    1.785130\n",
       "5    1.116241\n",
       "7    1.070607\n",
       "8    2.621795\n",
       "9    0.031915\n",
       "dtype: float64"
      ]
     },
     "execution_count": 124,
     "metadata": {},
     "output_type": "execute_result"
    }
   ],
   "source": [
    "a[a>a.median()]"
   ]
  },
  {
   "cell_type": "code",
   "execution_count": 125,
   "metadata": {},
   "outputs": [
    {
     "data": {
      "text/plain": [
       "0   -1.160148\n",
       "3    1.785130\n",
       "5    1.116241\n",
       "7    1.070607\n",
       "dtype: float64"
      ]
     },
     "execution_count": 125,
     "metadata": {},
     "output_type": "execute_result"
    }
   ],
   "source": [
    "a.iloc[[0, 3, 5, 7]]"
   ]
  },
  {
   "cell_type": "code",
   "execution_count": 126,
   "metadata": {},
   "outputs": [
    {
     "data": {
      "text/plain": [
       "0     0.313440\n",
       "1     0.299950\n",
       "2     0.608790\n",
       "3     5.960357\n",
       "4     0.317567\n",
       "5     3.053354\n",
       "6     0.304503\n",
       "7     2.917148\n",
       "8    13.760406\n",
       "9     1.032430\n",
       "dtype: float64"
      ]
     },
     "execution_count": 126,
     "metadata": {},
     "output_type": "execute_result"
    }
   ],
   "source": [
    "np.exp(a)"
   ]
  },
  {
   "cell_type": "code",
   "execution_count": 127,
   "metadata": {},
   "outputs": [
    {
     "data": {
      "text/plain": [
       "dtype('float64')"
      ]
     },
     "execution_count": 127,
     "metadata": {},
     "output_type": "execute_result"
    }
   ],
   "source": [
    "a.dtype"
   ]
  },
  {
   "cell_type": "code",
   "execution_count": 128,
   "metadata": {},
   "outputs": [
    {
     "data": {
      "text/plain": [
       "<NumpyExtensionArray>\n",
       "[ -1.1601482707017388,  -1.2041389660996265, -0.49628217451577133,\n",
       "    1.785130429763423,  -1.1470658674549201,   1.1162407423849263,\n",
       "  -1.1890744001903408,   1.0706065218896526,    2.621795333105346,\n",
       "  0.03191543888924953]\n",
       "Length: 10, dtype: float64"
      ]
     },
     "execution_count": 128,
     "metadata": {},
     "output_type": "execute_result"
    }
   ],
   "source": [
    "a.array"
   ]
  },
  {
   "cell_type": "code",
   "execution_count": 129,
   "metadata": {},
   "outputs": [
    {
     "data": {
      "text/plain": [
       "array([-1.16014827, -1.20413897, -0.49628217,  1.78513043, -1.14706587,\n",
       "        1.11624074, -1.1890744 ,  1.07060652,  2.62179533,  0.03191544])"
      ]
     },
     "execution_count": 129,
     "metadata": {},
     "output_type": "execute_result"
    }
   ],
   "source": [
    "a.to_numpy()"
   ]
  },
  {
   "cell_type": "code",
   "execution_count": 130,
   "metadata": {},
   "outputs": [
    {
     "data": {
      "text/plain": [
       "0   -1.160148\n",
       "1   -1.204139\n",
       "2   -0.496282\n",
       "3    1.785130\n",
       "4   -1.147066\n",
       "5    1.116241\n",
       "6   -1.189074\n",
       "7    1.070607\n",
       "8    2.621795\n",
       "9    0.031915\n",
       "dtype: float64"
      ]
     },
     "execution_count": 130,
     "metadata": {},
     "output_type": "execute_result"
    }
   ],
   "source": [
    "a"
   ]
  },
  {
   "cell_type": "code",
   "execution_count": 131,
   "metadata": {},
   "outputs": [
    {
     "data": {
      "text/plain": [
       "array([-1.16014827, -1.20413897, -0.49628217,  1.78513043, -1.14706587,\n",
       "        1.11624074, -1.1890744 ,  1.07060652,  2.62179533,  0.03191544])"
      ]
     },
     "execution_count": 131,
     "metadata": {},
     "output_type": "execute_result"
    }
   ],
   "source": [
    "a.to_numpy() #Changing into numpy array"
   ]
  },
  {
   "cell_type": "code",
   "execution_count": 132,
   "metadata": {},
   "outputs": [
    {
     "data": {
      "text/plain": [
       "A   -1.989683\n",
       "B    0.820496\n",
       "C   -1.466282\n",
       "D   -1.562445\n",
       "E    1.325341\n",
       "dtype: float64"
      ]
     },
     "execution_count": 132,
     "metadata": {},
     "output_type": "execute_result"
    }
   ],
   "source": [
    "s"
   ]
  },
  {
   "cell_type": "code",
   "execution_count": 133,
   "metadata": {},
   "outputs": [
    {
     "data": {
      "text/plain": [
       "-1.9896825249712113"
      ]
     },
     "execution_count": 133,
     "metadata": {},
     "output_type": "execute_result"
    }
   ],
   "source": [
    "s['A']"
   ]
  },
  {
   "cell_type": "code",
   "execution_count": 134,
   "metadata": {},
   "outputs": [
    {
     "data": {
      "text/plain": [
       "-1.5624450695465992"
      ]
     },
     "execution_count": 134,
     "metadata": {},
     "output_type": "execute_result"
    }
   ],
   "source": [
    "s['D']"
   ]
  },
  {
   "cell_type": "code",
   "execution_count": 135,
   "metadata": {},
   "outputs": [
    {
     "data": {
      "text/plain": [
       "nan"
      ]
     },
     "execution_count": 135,
     "metadata": {},
     "output_type": "execute_result"
    }
   ],
   "source": [
    "#Get Functions\n",
    "a.get('A', np.nan)"
   ]
  },
  {
   "cell_type": "code",
   "execution_count": 136,
   "metadata": {},
   "outputs": [
    {
     "data": {
      "text/plain": [
       "0   -1.160148\n",
       "1   -1.204139\n",
       "2   -0.496282\n",
       "3    1.785130\n",
       "4   -1.147066\n",
       "5    1.116241\n",
       "6   -1.189074\n",
       "7    1.070607\n",
       "8    2.621795\n",
       "9    0.031915\n",
       "dtype: float64"
      ]
     },
     "execution_count": 136,
     "metadata": {},
     "output_type": "execute_result"
    }
   ],
   "source": [
    "a"
   ]
  },
  {
   "cell_type": "code",
   "execution_count": 137,
   "metadata": {},
   "outputs": [
    {
     "data": {
      "text/plain": [
       "0    0.009209\n",
       "1    0.979811\n",
       "2    0.083158\n",
       "3    0.586980\n",
       "4    0.020006\n",
       "5    0.821774\n",
       "6    0.657718\n",
       "7    0.762026\n",
       "8    0.785442\n",
       "9    0.781813\n",
       "dtype: float64"
      ]
     },
     "execution_count": 137,
     "metadata": {},
     "output_type": "execute_result"
    }
   ],
   "source": [
    "b = pd.Series(np.random.rand(10))\n",
    "b"
   ]
  },
  {
   "cell_type": "code",
   "execution_count": 138,
   "metadata": {},
   "outputs": [
    {
     "data": {
      "text/plain": [
       "0   -1.150939\n",
       "1   -0.224328\n",
       "2   -0.413124\n",
       "3    2.372111\n",
       "4   -1.127060\n",
       "5    1.938015\n",
       "6   -0.531356\n",
       "7    1.832632\n",
       "8    3.407238\n",
       "9    0.813728\n",
       "dtype: float64"
      ]
     },
     "execution_count": 138,
     "metadata": {},
     "output_type": "execute_result"
    }
   ],
   "source": [
    "a + b"
   ]
  },
  {
   "cell_type": "code",
   "execution_count": 139,
   "metadata": {},
   "outputs": [
    {
     "data": {
      "text/plain": [
       "0   -0.010684\n",
       "1   -1.179828\n",
       "2   -0.041270\n",
       "3    1.047837\n",
       "4   -0.022948\n",
       "5    0.917297\n",
       "6   -0.782076\n",
       "7    0.815830\n",
       "8    2.059269\n",
       "9    0.024952\n",
       "dtype: float64"
      ]
     },
     "execution_count": 139,
     "metadata": {},
     "output_type": "execute_result"
    }
   ],
   "source": [
    "a*b"
   ]
  },
  {
   "cell_type": "code",
   "execution_count": 140,
   "metadata": {},
   "outputs": [
    {
     "data": {
      "text/plain": [
       "0   -1.169358\n",
       "1   -2.183950\n",
       "2   -0.579441\n",
       "3    1.198150\n",
       "4   -1.167072\n",
       "5    0.294467\n",
       "6   -1.846793\n",
       "7    0.308581\n",
       "8    1.836353\n",
       "9   -0.749897\n",
       "dtype: float64"
      ]
     },
     "execution_count": 140,
     "metadata": {},
     "output_type": "execute_result"
    }
   ],
   "source": [
    "a-b"
   ]
  },
  {
   "cell_type": "code",
   "execution_count": 141,
   "metadata": {},
   "outputs": [
    {
     "data": {
      "text/plain": [
       "0   -125.974416\n",
       "1     -1.228951\n",
       "2     -5.967916\n",
       "3      3.041209\n",
       "4    -57.336848\n",
       "5      1.358331\n",
       "6     -1.807878\n",
       "7      1.404948\n",
       "8      3.337986\n",
       "9      0.040822\n",
       "dtype: float64"
      ]
     },
     "execution_count": 141,
     "metadata": {},
     "output_type": "execute_result"
    }
   ],
   "source": [
    "a/b"
   ]
  },
  {
   "cell_type": "code",
   "execution_count": 142,
   "metadata": {},
   "outputs": [
    {
     "data": {
      "text/plain": [
       "0    1.345944\n",
       "1    1.449951\n",
       "2    0.246296\n",
       "3    3.186691\n",
       "4    1.315760\n",
       "5    1.245993\n",
       "6    1.413898\n",
       "7    1.146198\n",
       "8    6.873811\n",
       "9    0.001019\n",
       "dtype: float64"
      ]
     },
     "execution_count": 142,
     "metadata": {},
     "output_type": "execute_result"
    }
   ],
   "source": [
    "a**2"
   ]
  },
  {
   "cell_type": "code",
   "execution_count": 143,
   "metadata": {},
   "outputs": [
    {
     "data": {
      "text/html": [
       "<div>\n",
       "<style scoped>\n",
       "    .dataframe tbody tr th:only-of-type {\n",
       "        vertical-align: middle;\n",
       "    }\n",
       "\n",
       "    .dataframe tbody tr th {\n",
       "        vertical-align: top;\n",
       "    }\n",
       "\n",
       "    .dataframe thead th {\n",
       "        text-align: right;\n",
       "    }\n",
       "</style>\n",
       "<table border=\"1\" class=\"dataframe\">\n",
       "  <thead>\n",
       "    <tr style=\"text-align: right;\">\n",
       "      <th></th>\n",
       "      <th>A</th>\n",
       "      <th>B</th>\n",
       "    </tr>\n",
       "  </thead>\n",
       "  <tbody>\n",
       "    <tr>\n",
       "      <th>1</th>\n",
       "      <td>11</td>\n",
       "      <td>111</td>\n",
       "    </tr>\n",
       "    <tr>\n",
       "      <th>2</th>\n",
       "      <td>22</td>\n",
       "      <td>222</td>\n",
       "    </tr>\n",
       "    <tr>\n",
       "      <th>3</th>\n",
       "      <td>33</td>\n",
       "      <td>333</td>\n",
       "    </tr>\n",
       "    <tr>\n",
       "      <th>4</th>\n",
       "      <td>44</td>\n",
       "      <td>444</td>\n",
       "    </tr>\n",
       "    <tr>\n",
       "      <th>5</th>\n",
       "      <td>55</td>\n",
       "      <td>555</td>\n",
       "    </tr>\n",
       "  </tbody>\n",
       "</table>\n",
       "</div>"
      ],
      "text/plain": [
       "    A    B\n",
       "1  11  111\n",
       "2  22  222\n",
       "3  33  333\n",
       "4  44  444\n",
       "5  55  555"
      ]
     },
     "execution_count": 143,
     "metadata": {},
     "output_type": "execute_result"
    }
   ],
   "source": [
    "#Creating a DataFrame\n",
    "d = {\n",
    "    \"A\":pd.Series([11, 22, 33, 44, 55], index = [1, 2, 3, 4, 5]),\n",
    "    \"B\":pd.Series([111, 222, 333, 444, 555], index = [1, 2, 3, 4, 5])\n",
    "}\n",
    "df = pd.DataFrame(d)\n",
    "df"
   ]
  },
  {
   "cell_type": "code",
   "execution_count": 147,
   "metadata": {},
   "outputs": [
    {
     "data": {
      "text/html": [
       "<div>\n",
       "<style scoped>\n",
       "    .dataframe tbody tr th:only-of-type {\n",
       "        vertical-align: middle;\n",
       "    }\n",
       "\n",
       "    .dataframe tbody tr th {\n",
       "        vertical-align: top;\n",
       "    }\n",
       "\n",
       "    .dataframe thead th {\n",
       "        text-align: right;\n",
       "    }\n",
       "</style>\n",
       "<table border=\"1\" class=\"dataframe\">\n",
       "  <thead>\n",
       "    <tr style=\"text-align: right;\">\n",
       "      <th></th>\n",
       "      <th>A</th>\n",
       "      <th>B</th>\n",
       "    </tr>\n",
       "  </thead>\n",
       "  <tbody>\n",
       "    <tr>\n",
       "      <th>0</th>\n",
       "      <td>1</td>\n",
       "      <td>33</td>\n",
       "    </tr>\n",
       "    <tr>\n",
       "      <th>1</th>\n",
       "      <td>2</td>\n",
       "      <td>54</td>\n",
       "    </tr>\n",
       "    <tr>\n",
       "      <th>2</th>\n",
       "      <td>3</td>\n",
       "      <td>55</td>\n",
       "    </tr>\n",
       "    <tr>\n",
       "      <th>3</th>\n",
       "      <td>4</td>\n",
       "      <td>454</td>\n",
       "    </tr>\n",
       "    <tr>\n",
       "      <th>4</th>\n",
       "      <td>5</td>\n",
       "      <td>2343</td>\n",
       "    </tr>\n",
       "  </tbody>\n",
       "</table>\n",
       "</div>"
      ],
      "text/plain": [
       "   A     B\n",
       "0  1    33\n",
       "1  2    54\n",
       "2  3    55\n",
       "3  4   454\n",
       "4  5  2343"
      ]
     },
     "execution_count": 147,
     "metadata": {},
     "output_type": "execute_result"
    }
   ],
   "source": [
    "a = pd.DataFrame({\n",
    "    \"A\":[1, 2, 3, 4, 5], \n",
    "    \"B\":[33, 54, 55, 454, 2343]\n",
    "})\n",
    "a"
   ]
  },
  {
   "cell_type": "code",
   "execution_count": 149,
   "metadata": {},
   "outputs": [
    {
     "data": {
      "text/html": [
       "<div>\n",
       "<style scoped>\n",
       "    .dataframe tbody tr th:only-of-type {\n",
       "        vertical-align: middle;\n",
       "    }\n",
       "\n",
       "    .dataframe tbody tr th {\n",
       "        vertical-align: top;\n",
       "    }\n",
       "\n",
       "    .dataframe thead th {\n",
       "        text-align: right;\n",
       "    }\n",
       "</style>\n",
       "<table border=\"1\" class=\"dataframe\">\n",
       "  <thead>\n",
       "    <tr style=\"text-align: right;\">\n",
       "      <th></th>\n",
       "      <th>A</th>\n",
       "      <th>B</th>\n",
       "    </tr>\n",
       "  </thead>\n",
       "  <tbody>\n",
       "    <tr>\n",
       "      <th>0</th>\n",
       "      <td>1</td>\n",
       "      <td>33</td>\n",
       "    </tr>\n",
       "    <tr>\n",
       "      <th>1</th>\n",
       "      <td>2</td>\n",
       "      <td>54</td>\n",
       "    </tr>\n",
       "    <tr>\n",
       "      <th>2</th>\n",
       "      <td>3</td>\n",
       "      <td>55</td>\n",
       "    </tr>\n",
       "    <tr>\n",
       "      <th>3</th>\n",
       "      <td>4</td>\n",
       "      <td>454</td>\n",
       "    </tr>\n",
       "    <tr>\n",
       "      <th>4</th>\n",
       "      <td>5</td>\n",
       "      <td>2343</td>\n",
       "    </tr>\n",
       "  </tbody>\n",
       "</table>\n",
       "</div>"
      ],
      "text/plain": [
       "   A     B\n",
       "0  1    33\n",
       "1  2    54\n",
       "2  3    55\n",
       "3  4   454\n",
       "4  5  2343"
      ]
     },
     "execution_count": 149,
     "metadata": {},
     "output_type": "execute_result"
    }
   ],
   "source": [
    "a"
   ]
  },
  {
   "cell_type": "code",
   "execution_count": 150,
   "metadata": {},
   "outputs": [
    {
     "data": {
      "text/html": [
       "<div>\n",
       "<style scoped>\n",
       "    .dataframe tbody tr th:only-of-type {\n",
       "        vertical-align: middle;\n",
       "    }\n",
       "\n",
       "    .dataframe tbody tr th {\n",
       "        vertical-align: top;\n",
       "    }\n",
       "\n",
       "    .dataframe thead th {\n",
       "        text-align: right;\n",
       "    }\n",
       "</style>\n",
       "<table border=\"1\" class=\"dataframe\">\n",
       "  <thead>\n",
       "    <tr style=\"text-align: right;\">\n",
       "      <th></th>\n",
       "      <th>A</th>\n",
       "      <th>B</th>\n",
       "    </tr>\n",
       "  </thead>\n",
       "  <tbody>\n",
       "    <tr>\n",
       "      <th>1</th>\n",
       "      <td>33</td>\n",
       "      <td>111</td>\n",
       "    </tr>\n",
       "    <tr>\n",
       "      <th>2</th>\n",
       "      <td>33</td>\n",
       "      <td>222</td>\n",
       "    </tr>\n",
       "    <tr>\n",
       "      <th>3</th>\n",
       "      <td>33</td>\n",
       "      <td>333</td>\n",
       "    </tr>\n",
       "    <tr>\n",
       "      <th>4</th>\n",
       "      <td>33</td>\n",
       "      <td>444</td>\n",
       "    </tr>\n",
       "    <tr>\n",
       "      <th>5</th>\n",
       "      <td>33</td>\n",
       "      <td>555</td>\n",
       "    </tr>\n",
       "  </tbody>\n",
       "</table>\n",
       "</div>"
      ],
      "text/plain": [
       "    A    B\n",
       "1  33  111\n",
       "2  33  222\n",
       "3  33  333\n",
       "4  33  444\n",
       "5  33  555"
      ]
     },
     "execution_count": 150,
     "metadata": {},
     "output_type": "execute_result"
    }
   ],
   "source": [
    "df"
   ]
  },
  {
   "cell_type": "code",
   "execution_count": 151,
   "metadata": {},
   "outputs": [],
   "source": [
    "data = np.zeros(3)"
   ]
  },
  {
   "cell_type": "code",
   "execution_count": 152,
   "metadata": {},
   "outputs": [
    {
     "data": {
      "text/plain": [
       "array([0., 0., 0.])"
      ]
     },
     "execution_count": 152,
     "metadata": {},
     "output_type": "execute_result"
    }
   ],
   "source": [
    "data"
   ]
  },
  {
   "cell_type": "code",
   "execution_count": 161,
   "metadata": {},
   "outputs": [
    {
     "data": {
      "text/html": [
       "<div>\n",
       "<style scoped>\n",
       "    .dataframe tbody tr th:only-of-type {\n",
       "        vertical-align: middle;\n",
       "    }\n",
       "\n",
       "    .dataframe tbody tr th {\n",
       "        vertical-align: top;\n",
       "    }\n",
       "\n",
       "    .dataframe thead th {\n",
       "        text-align: right;\n",
       "    }\n",
       "</style>\n",
       "<table border=\"1\" class=\"dataframe\">\n",
       "  <thead>\n",
       "    <tr style=\"text-align: right;\">\n",
       "      <th></th>\n",
       "      <th>A</th>\n",
       "      <th>B</th>\n",
       "    </tr>\n",
       "  </thead>\n",
       "  <tbody>\n",
       "    <tr>\n",
       "      <th>3</th>\n",
       "      <td>33</td>\n",
       "      <td>333</td>\n",
       "    </tr>\n",
       "    <tr>\n",
       "      <th>4</th>\n",
       "      <td>33</td>\n",
       "      <td>444</td>\n",
       "    </tr>\n",
       "    <tr>\n",
       "      <th>5</th>\n",
       "      <td>33</td>\n",
       "      <td>555</td>\n",
       "    </tr>\n",
       "  </tbody>\n",
       "</table>\n",
       "</div>"
      ],
      "text/plain": [
       "    A    B\n",
       "3  33  333\n",
       "4  33  444\n",
       "5  33  555"
      ]
     },
     "execution_count": 161,
     "metadata": {},
     "output_type": "execute_result"
    }
   ],
   "source": [
    "df.query(\"B>300\")"
   ]
  },
  {
   "cell_type": "code",
   "execution_count": 163,
   "metadata": {},
   "outputs": [
    {
     "data": {
      "text/plain": [
       "Index([0, 1, 2, 3, 4, 5, 6, 7, 8, 9], dtype='int32')"
      ]
     },
     "execution_count": 163,
     "metadata": {},
     "output_type": "execute_result"
    }
   ],
   "source": [
    "idx = pd.Index(np.arange(10))\n",
    "idx"
   ]
  },
  {
   "cell_type": "code",
   "execution_count": 165,
   "metadata": {},
   "outputs": [
    {
     "data": {
      "text/plain": [
       "A     165\n",
       "B    1665\n",
       "dtype: int64"
      ]
     },
     "execution_count": 165,
     "metadata": {},
     "output_type": "execute_result"
    }
   ],
   "source": [
    "df.sum(0, skipna=True)"
   ]
  },
  {
   "cell_type": "code",
   "execution_count": 166,
   "metadata": {},
   "outputs": [
    {
     "data": {
      "text/html": [
       "<div>\n",
       "<style scoped>\n",
       "    .dataframe tbody tr th:only-of-type {\n",
       "        vertical-align: middle;\n",
       "    }\n",
       "\n",
       "    .dataframe tbody tr th {\n",
       "        vertical-align: top;\n",
       "    }\n",
       "\n",
       "    .dataframe thead th {\n",
       "        text-align: right;\n",
       "    }\n",
       "</style>\n",
       "<table border=\"1\" class=\"dataframe\">\n",
       "  <thead>\n",
       "    <tr style=\"text-align: right;\">\n",
       "      <th></th>\n",
       "      <th>A</th>\n",
       "      <th>B</th>\n",
       "    </tr>\n",
       "  </thead>\n",
       "  <tbody>\n",
       "    <tr>\n",
       "      <th>1</th>\n",
       "      <td>33</td>\n",
       "      <td>111</td>\n",
       "    </tr>\n",
       "    <tr>\n",
       "      <th>2</th>\n",
       "      <td>33</td>\n",
       "      <td>222</td>\n",
       "    </tr>\n",
       "    <tr>\n",
       "      <th>3</th>\n",
       "      <td>33</td>\n",
       "      <td>333</td>\n",
       "    </tr>\n",
       "    <tr>\n",
       "      <th>4</th>\n",
       "      <td>33</td>\n",
       "      <td>444</td>\n",
       "    </tr>\n",
       "    <tr>\n",
       "      <th>5</th>\n",
       "      <td>33</td>\n",
       "      <td>555</td>\n",
       "    </tr>\n",
       "  </tbody>\n",
       "</table>\n",
       "</div>"
      ],
      "text/plain": [
       "    A    B\n",
       "1  33  111\n",
       "2  33  222\n",
       "3  33  333\n",
       "4  33  444\n",
       "5  33  555"
      ]
     },
     "execution_count": 166,
     "metadata": {},
     "output_type": "execute_result"
    }
   ],
   "source": [
    "df"
   ]
  },
  {
   "cell_type": "code",
   "execution_count": 168,
   "metadata": {},
   "outputs": [
    {
     "data": {
      "text/html": [
       "<div>\n",
       "<style scoped>\n",
       "    .dataframe tbody tr th:only-of-type {\n",
       "        vertical-align: middle;\n",
       "    }\n",
       "\n",
       "    .dataframe tbody tr th {\n",
       "        vertical-align: top;\n",
       "    }\n",
       "\n",
       "    .dataframe thead th {\n",
       "        text-align: right;\n",
       "    }\n",
       "</style>\n",
       "<table border=\"1\" class=\"dataframe\">\n",
       "  <thead>\n",
       "    <tr style=\"text-align: right;\">\n",
       "      <th></th>\n",
       "      <th>A</th>\n",
       "      <th>B</th>\n",
       "      <th>C</th>\n",
       "      <th>D</th>\n",
       "    </tr>\n",
       "  </thead>\n",
       "  <tbody>\n",
       "    <tr>\n",
       "      <th>2023-01-01</th>\n",
       "      <td>-0.099492</td>\n",
       "      <td>0.041223</td>\n",
       "      <td>0.326294</td>\n",
       "      <td>-0.735678</td>\n",
       "    </tr>\n",
       "    <tr>\n",
       "      <th>2023-01-02</th>\n",
       "      <td>0.144425</td>\n",
       "      <td>0.814132</td>\n",
       "      <td>-1.372340</td>\n",
       "      <td>0.206552</td>\n",
       "    </tr>\n",
       "    <tr>\n",
       "      <th>2023-01-03</th>\n",
       "      <td>0.341804</td>\n",
       "      <td>0.797397</td>\n",
       "      <td>-0.305666</td>\n",
       "      <td>0.282299</td>\n",
       "    </tr>\n",
       "    <tr>\n",
       "      <th>2023-01-04</th>\n",
       "      <td>-1.510826</td>\n",
       "      <td>-0.209768</td>\n",
       "      <td>-0.745931</td>\n",
       "      <td>1.061330</td>\n",
       "    </tr>\n",
       "    <tr>\n",
       "      <th>2023-01-05</th>\n",
       "      <td>-0.449483</td>\n",
       "      <td>-0.772233</td>\n",
       "      <td>-0.382787</td>\n",
       "      <td>-0.768594</td>\n",
       "    </tr>\n",
       "    <tr>\n",
       "      <th>...</th>\n",
       "      <td>...</td>\n",
       "      <td>...</td>\n",
       "      <td>...</td>\n",
       "      <td>...</td>\n",
       "    </tr>\n",
       "    <tr>\n",
       "      <th>2023-04-06</th>\n",
       "      <td>-0.672194</td>\n",
       "      <td>-0.413014</td>\n",
       "      <td>-0.235989</td>\n",
       "      <td>-0.045640</td>\n",
       "    </tr>\n",
       "    <tr>\n",
       "      <th>2023-04-07</th>\n",
       "      <td>-0.485760</td>\n",
       "      <td>0.594956</td>\n",
       "      <td>0.189292</td>\n",
       "      <td>1.099412</td>\n",
       "    </tr>\n",
       "    <tr>\n",
       "      <th>2023-04-08</th>\n",
       "      <td>1.417293</td>\n",
       "      <td>-1.798883</td>\n",
       "      <td>0.749775</td>\n",
       "      <td>0.098239</td>\n",
       "    </tr>\n",
       "    <tr>\n",
       "      <th>2023-04-09</th>\n",
       "      <td>0.911300</td>\n",
       "      <td>0.338012</td>\n",
       "      <td>-1.214245</td>\n",
       "      <td>0.704153</td>\n",
       "    </tr>\n",
       "    <tr>\n",
       "      <th>2023-04-10</th>\n",
       "      <td>-0.636853</td>\n",
       "      <td>0.400156</td>\n",
       "      <td>0.222446</td>\n",
       "      <td>0.405984</td>\n",
       "    </tr>\n",
       "  </tbody>\n",
       "</table>\n",
       "<p>100 rows × 4 columns</p>\n",
       "</div>"
      ],
      "text/plain": [
       "                   A         B         C         D\n",
       "2023-01-01 -0.099492  0.041223  0.326294 -0.735678\n",
       "2023-01-02  0.144425  0.814132 -1.372340  0.206552\n",
       "2023-01-03  0.341804  0.797397 -0.305666  0.282299\n",
       "2023-01-04 -1.510826 -0.209768 -0.745931  1.061330\n",
       "2023-01-05 -0.449483 -0.772233 -0.382787 -0.768594\n",
       "...              ...       ...       ...       ...\n",
       "2023-04-06 -0.672194 -0.413014 -0.235989 -0.045640\n",
       "2023-04-07 -0.485760  0.594956  0.189292  1.099412\n",
       "2023-04-08  1.417293 -1.798883  0.749775  0.098239\n",
       "2023-04-09  0.911300  0.338012 -1.214245  0.704153\n",
       "2023-04-10 -0.636853  0.400156  0.222446  0.405984\n",
       "\n",
       "[100 rows x 4 columns]"
      ]
     },
     "execution_count": 168,
     "metadata": {},
     "output_type": "execute_result"
    }
   ],
   "source": [
    "df1 = pd.DataFrame(np.random.randn(100, 4),\n",
    "                   columns=list('ABCD'),\n",
    "                   index=pd.date_range(\"20230101\", periods=100))\n",
    "df1"
   ]
  },
  {
   "cell_type": "code",
   "execution_count": 169,
   "metadata": {},
   "outputs": [
    {
     "data": {
      "text/plain": [
       "A    float64\n",
       "B    float64\n",
       "C    float64\n",
       "D    float64\n",
       "dtype: object"
      ]
     },
     "execution_count": 169,
     "metadata": {},
     "output_type": "execute_result"
    }
   ],
   "source": [
    "df1.dtypes"
   ]
  },
  {
   "cell_type": "code",
   "execution_count": 171,
   "metadata": {},
   "outputs": [
    {
     "data": {
      "text/plain": [
       "A    -6.214526\n",
       "B     2.660862\n",
       "C   -24.944413\n",
       "D     7.360125\n",
       "dtype: float64"
      ]
     },
     "execution_count": 171,
     "metadata": {},
     "output_type": "execute_result"
    }
   ],
   "source": [
    "df1.sum(0, skipna=False)"
   ]
  },
  {
   "cell_type": "code",
   "execution_count": 173,
   "metadata": {},
   "outputs": [
    {
     "data": {
      "text/html": [
       "<div>\n",
       "<style scoped>\n",
       "    .dataframe tbody tr th:only-of-type {\n",
       "        vertical-align: middle;\n",
       "    }\n",
       "\n",
       "    .dataframe tbody tr th {\n",
       "        vertical-align: top;\n",
       "    }\n",
       "\n",
       "    .dataframe thead th {\n",
       "        text-align: right;\n",
       "    }\n",
       "</style>\n",
       "<table border=\"1\" class=\"dataframe\">\n",
       "  <thead>\n",
       "    <tr style=\"text-align: right;\">\n",
       "      <th></th>\n",
       "      <th>A</th>\n",
       "      <th>B</th>\n",
       "      <th>C</th>\n",
       "      <th>D</th>\n",
       "    </tr>\n",
       "  </thead>\n",
       "  <tbody>\n",
       "    <tr>\n",
       "      <th>2023-01-01</th>\n",
       "      <td>-0.099492</td>\n",
       "      <td>0.041223</td>\n",
       "      <td>0.326294</td>\n",
       "      <td>-0.735678</td>\n",
       "    </tr>\n",
       "    <tr>\n",
       "      <th>2023-01-02</th>\n",
       "      <td>0.144425</td>\n",
       "      <td>0.814132</td>\n",
       "      <td>-1.372340</td>\n",
       "      <td>0.206552</td>\n",
       "    </tr>\n",
       "    <tr>\n",
       "      <th>2023-01-03</th>\n",
       "      <td>0.341804</td>\n",
       "      <td>0.797397</td>\n",
       "      <td>-0.305666</td>\n",
       "      <td>0.282299</td>\n",
       "    </tr>\n",
       "    <tr>\n",
       "      <th>2023-01-04</th>\n",
       "      <td>-1.510826</td>\n",
       "      <td>-0.209768</td>\n",
       "      <td>-0.745931</td>\n",
       "      <td>1.061330</td>\n",
       "    </tr>\n",
       "    <tr>\n",
       "      <th>2023-01-05</th>\n",
       "      <td>-0.449483</td>\n",
       "      <td>-0.772233</td>\n",
       "      <td>-0.382787</td>\n",
       "      <td>-0.768594</td>\n",
       "    </tr>\n",
       "  </tbody>\n",
       "</table>\n",
       "</div>"
      ],
      "text/plain": [
       "                   A         B         C         D\n",
       "2023-01-01 -0.099492  0.041223  0.326294 -0.735678\n",
       "2023-01-02  0.144425  0.814132 -1.372340  0.206552\n",
       "2023-01-03  0.341804  0.797397 -0.305666  0.282299\n",
       "2023-01-04 -1.510826 -0.209768 -0.745931  1.061330\n",
       "2023-01-05 -0.449483 -0.772233 -0.382787 -0.768594"
      ]
     },
     "execution_count": 173,
     "metadata": {},
     "output_type": "execute_result"
    }
   ],
   "source": [
    "df1.loc[\"2023-01-01\":\"2023-01-05\"]"
   ]
  },
  {
   "cell_type": "code",
   "execution_count": 184,
   "metadata": {},
   "outputs": [
    {
     "data": {
      "text/html": [
       "<div>\n",
       "<style scoped>\n",
       "    .dataframe tbody tr th:only-of-type {\n",
       "        vertical-align: middle;\n",
       "    }\n",
       "\n",
       "    .dataframe tbody tr th {\n",
       "        vertical-align: top;\n",
       "    }\n",
       "\n",
       "    .dataframe thead th {\n",
       "        text-align: right;\n",
       "    }\n",
       "</style>\n",
       "<table border=\"1\" class=\"dataframe\">\n",
       "  <thead>\n",
       "    <tr style=\"text-align: right;\">\n",
       "      <th></th>\n",
       "      <th>A</th>\n",
       "      <th>B</th>\n",
       "      <th>C</th>\n",
       "      <th>D</th>\n",
       "    </tr>\n",
       "  </thead>\n",
       "  <tbody>\n",
       "    <tr>\n",
       "      <th>2023-01-13</th>\n",
       "      <td>0.966036</td>\n",
       "      <td>1.500642</td>\n",
       "      <td>2.773600</td>\n",
       "      <td>0.175904</td>\n",
       "    </tr>\n",
       "    <tr>\n",
       "      <th>2023-01-18</th>\n",
       "      <td>1.178569</td>\n",
       "      <td>-0.145889</td>\n",
       "      <td>-1.457386</td>\n",
       "      <td>-1.286832</td>\n",
       "    </tr>\n",
       "    <tr>\n",
       "      <th>2023-01-28</th>\n",
       "      <td>1.554668</td>\n",
       "      <td>-1.264565</td>\n",
       "      <td>-1.950390</td>\n",
       "      <td>0.684095</td>\n",
       "    </tr>\n",
       "    <tr>\n",
       "      <th>2023-02-12</th>\n",
       "      <td>0.922884</td>\n",
       "      <td>-0.974392</td>\n",
       "      <td>-0.889681</td>\n",
       "      <td>1.240900</td>\n",
       "    </tr>\n",
       "    <tr>\n",
       "      <th>2023-02-16</th>\n",
       "      <td>2.235034</td>\n",
       "      <td>-0.456826</td>\n",
       "      <td>-2.605627</td>\n",
       "      <td>-1.482658</td>\n",
       "    </tr>\n",
       "    <tr>\n",
       "      <th>2023-02-17</th>\n",
       "      <td>1.376450</td>\n",
       "      <td>1.203813</td>\n",
       "      <td>0.571679</td>\n",
       "      <td>0.166275</td>\n",
       "    </tr>\n",
       "    <tr>\n",
       "      <th>2023-02-25</th>\n",
       "      <td>1.441330</td>\n",
       "      <td>-0.111319</td>\n",
       "      <td>1.460460</td>\n",
       "      <td>-1.540510</td>\n",
       "    </tr>\n",
       "    <tr>\n",
       "      <th>2023-02-26</th>\n",
       "      <td>1.584722</td>\n",
       "      <td>0.405122</td>\n",
       "      <td>0.641553</td>\n",
       "      <td>-2.263599</td>\n",
       "    </tr>\n",
       "    <tr>\n",
       "      <th>2023-03-19</th>\n",
       "      <td>2.526156</td>\n",
       "      <td>0.092811</td>\n",
       "      <td>1.816525</td>\n",
       "      <td>-1.172391</td>\n",
       "    </tr>\n",
       "    <tr>\n",
       "      <th>2023-03-22</th>\n",
       "      <td>1.352096</td>\n",
       "      <td>1.277883</td>\n",
       "      <td>0.076621</td>\n",
       "      <td>1.380980</td>\n",
       "    </tr>\n",
       "    <tr>\n",
       "      <th>2023-03-23</th>\n",
       "      <td>1.017165</td>\n",
       "      <td>0.548945</td>\n",
       "      <td>-1.386809</td>\n",
       "      <td>-0.769277</td>\n",
       "    </tr>\n",
       "    <tr>\n",
       "      <th>2023-03-25</th>\n",
       "      <td>1.110070</td>\n",
       "      <td>-0.976168</td>\n",
       "      <td>-1.237554</td>\n",
       "      <td>0.507719</td>\n",
       "    </tr>\n",
       "    <tr>\n",
       "      <th>2023-03-27</th>\n",
       "      <td>1.444534</td>\n",
       "      <td>-0.361479</td>\n",
       "      <td>-0.835303</td>\n",
       "      <td>0.674527</td>\n",
       "    </tr>\n",
       "    <tr>\n",
       "      <th>2023-04-08</th>\n",
       "      <td>1.417293</td>\n",
       "      <td>-1.798883</td>\n",
       "      <td>0.749775</td>\n",
       "      <td>0.098239</td>\n",
       "    </tr>\n",
       "    <tr>\n",
       "      <th>2023-04-09</th>\n",
       "      <td>0.911300</td>\n",
       "      <td>0.338012</td>\n",
       "      <td>-1.214245</td>\n",
       "      <td>0.704153</td>\n",
       "    </tr>\n",
       "  </tbody>\n",
       "</table>\n",
       "</div>"
      ],
      "text/plain": [
       "                   A         B         C         D\n",
       "2023-01-13  0.966036  1.500642  2.773600  0.175904\n",
       "2023-01-18  1.178569 -0.145889 -1.457386 -1.286832\n",
       "2023-01-28  1.554668 -1.264565 -1.950390  0.684095\n",
       "2023-02-12  0.922884 -0.974392 -0.889681  1.240900\n",
       "2023-02-16  2.235034 -0.456826 -2.605627 -1.482658\n",
       "2023-02-17  1.376450  1.203813  0.571679  0.166275\n",
       "2023-02-25  1.441330 -0.111319  1.460460 -1.540510\n",
       "2023-02-26  1.584722  0.405122  0.641553 -2.263599\n",
       "2023-03-19  2.526156  0.092811  1.816525 -1.172391\n",
       "2023-03-22  1.352096  1.277883  0.076621  1.380980\n",
       "2023-03-23  1.017165  0.548945 -1.386809 -0.769277\n",
       "2023-03-25  1.110070 -0.976168 -1.237554  0.507719\n",
       "2023-03-27  1.444534 -0.361479 -0.835303  0.674527\n",
       "2023-04-08  1.417293 -1.798883  0.749775  0.098239\n",
       "2023-04-09  0.911300  0.338012 -1.214245  0.704153"
      ]
     },
     "execution_count": 184,
     "metadata": {},
     "output_type": "execute_result"
    }
   ],
   "source": [
    "df1.loc[df1['A']>0.9]"
   ]
  },
  {
   "cell_type": "code",
   "execution_count": 185,
   "metadata": {},
   "outputs": [
    {
     "data": {
      "text/html": [
       "<div>\n",
       "<style scoped>\n",
       "    .dataframe tbody tr th:only-of-type {\n",
       "        vertical-align: middle;\n",
       "    }\n",
       "\n",
       "    .dataframe tbody tr th {\n",
       "        vertical-align: top;\n",
       "    }\n",
       "\n",
       "    .dataframe thead th {\n",
       "        text-align: right;\n",
       "    }\n",
       "</style>\n",
       "<table border=\"1\" class=\"dataframe\">\n",
       "  <thead>\n",
       "    <tr style=\"text-align: right;\">\n",
       "      <th></th>\n",
       "      <th>A</th>\n",
       "      <th>B</th>\n",
       "      <th>C</th>\n",
       "      <th>D</th>\n",
       "    </tr>\n",
       "  </thead>\n",
       "  <tbody>\n",
       "    <tr>\n",
       "      <th>2023-01-07</th>\n",
       "      <td>-0.353972</td>\n",
       "      <td>2.950212</td>\n",
       "      <td>0.867890</td>\n",
       "      <td>-0.381308</td>\n",
       "    </tr>\n",
       "    <tr>\n",
       "      <th>2023-01-13</th>\n",
       "      <td>0.966036</td>\n",
       "      <td>1.500642</td>\n",
       "      <td>2.773600</td>\n",
       "      <td>0.175904</td>\n",
       "    </tr>\n",
       "    <tr>\n",
       "      <th>2023-01-20</th>\n",
       "      <td>-0.120900</td>\n",
       "      <td>2.120664</td>\n",
       "      <td>-0.776215</td>\n",
       "      <td>-0.568314</td>\n",
       "    </tr>\n",
       "    <tr>\n",
       "      <th>2023-01-24</th>\n",
       "      <td>-0.126214</td>\n",
       "      <td>1.062853</td>\n",
       "      <td>-0.460593</td>\n",
       "      <td>0.126704</td>\n",
       "    </tr>\n",
       "    <tr>\n",
       "      <th>2023-01-27</th>\n",
       "      <td>0.465786</td>\n",
       "      <td>2.475747</td>\n",
       "      <td>-1.009007</td>\n",
       "      <td>-0.773947</td>\n",
       "    </tr>\n",
       "    <tr>\n",
       "      <th>2023-02-10</th>\n",
       "      <td>-1.249578</td>\n",
       "      <td>1.965699</td>\n",
       "      <td>0.087204</td>\n",
       "      <td>0.513044</td>\n",
       "    </tr>\n",
       "    <tr>\n",
       "      <th>2023-02-11</th>\n",
       "      <td>0.524472</td>\n",
       "      <td>1.926718</td>\n",
       "      <td>-0.869045</td>\n",
       "      <td>0.934969</td>\n",
       "    </tr>\n",
       "    <tr>\n",
       "      <th>2023-02-13</th>\n",
       "      <td>-0.474765</td>\n",
       "      <td>1.745003</td>\n",
       "      <td>-1.344110</td>\n",
       "      <td>0.946546</td>\n",
       "    </tr>\n",
       "    <tr>\n",
       "      <th>2023-02-15</th>\n",
       "      <td>0.401722</td>\n",
       "      <td>1.408239</td>\n",
       "      <td>-1.603235</td>\n",
       "      <td>-0.656103</td>\n",
       "    </tr>\n",
       "    <tr>\n",
       "      <th>2023-02-17</th>\n",
       "      <td>1.376450</td>\n",
       "      <td>1.203813</td>\n",
       "      <td>0.571679</td>\n",
       "      <td>0.166275</td>\n",
       "    </tr>\n",
       "    <tr>\n",
       "      <th>2023-02-24</th>\n",
       "      <td>-0.341519</td>\n",
       "      <td>0.994199</td>\n",
       "      <td>-2.167798</td>\n",
       "      <td>0.144335</td>\n",
       "    </tr>\n",
       "    <tr>\n",
       "      <th>2023-02-27</th>\n",
       "      <td>-0.021950</td>\n",
       "      <td>0.951912</td>\n",
       "      <td>0.339829</td>\n",
       "      <td>1.175724</td>\n",
       "    </tr>\n",
       "    <tr>\n",
       "      <th>2023-03-15</th>\n",
       "      <td>0.468739</td>\n",
       "      <td>1.262099</td>\n",
       "      <td>0.464018</td>\n",
       "      <td>0.580963</td>\n",
       "    </tr>\n",
       "    <tr>\n",
       "      <th>2023-03-16</th>\n",
       "      <td>0.304914</td>\n",
       "      <td>0.941583</td>\n",
       "      <td>-0.248672</td>\n",
       "      <td>0.471084</td>\n",
       "    </tr>\n",
       "    <tr>\n",
       "      <th>2023-03-17</th>\n",
       "      <td>0.531371</td>\n",
       "      <td>0.947959</td>\n",
       "      <td>-0.027637</td>\n",
       "      <td>-0.230212</td>\n",
       "    </tr>\n",
       "    <tr>\n",
       "      <th>2023-03-22</th>\n",
       "      <td>1.352096</td>\n",
       "      <td>1.277883</td>\n",
       "      <td>0.076621</td>\n",
       "      <td>1.380980</td>\n",
       "    </tr>\n",
       "    <tr>\n",
       "      <th>2023-03-26</th>\n",
       "      <td>-1.203763</td>\n",
       "      <td>1.032355</td>\n",
       "      <td>1.057079</td>\n",
       "      <td>2.088848</td>\n",
       "    </tr>\n",
       "    <tr>\n",
       "      <th>2023-04-03</th>\n",
       "      <td>0.122823</td>\n",
       "      <td>1.197614</td>\n",
       "      <td>-1.637993</td>\n",
       "      <td>-0.468783</td>\n",
       "    </tr>\n",
       "    <tr>\n",
       "      <th>2023-04-05</th>\n",
       "      <td>-0.285288</td>\n",
       "      <td>1.611720</td>\n",
       "      <td>-0.833896</td>\n",
       "      <td>0.297218</td>\n",
       "    </tr>\n",
       "  </tbody>\n",
       "</table>\n",
       "</div>"
      ],
      "text/plain": [
       "                   A         B         C         D\n",
       "2023-01-07 -0.353972  2.950212  0.867890 -0.381308\n",
       "2023-01-13  0.966036  1.500642  2.773600  0.175904\n",
       "2023-01-20 -0.120900  2.120664 -0.776215 -0.568314\n",
       "2023-01-24 -0.126214  1.062853 -0.460593  0.126704\n",
       "2023-01-27  0.465786  2.475747 -1.009007 -0.773947\n",
       "2023-02-10 -1.249578  1.965699  0.087204  0.513044\n",
       "2023-02-11  0.524472  1.926718 -0.869045  0.934969\n",
       "2023-02-13 -0.474765  1.745003 -1.344110  0.946546\n",
       "2023-02-15  0.401722  1.408239 -1.603235 -0.656103\n",
       "2023-02-17  1.376450  1.203813  0.571679  0.166275\n",
       "2023-02-24 -0.341519  0.994199 -2.167798  0.144335\n",
       "2023-02-27 -0.021950  0.951912  0.339829  1.175724\n",
       "2023-03-15  0.468739  1.262099  0.464018  0.580963\n",
       "2023-03-16  0.304914  0.941583 -0.248672  0.471084\n",
       "2023-03-17  0.531371  0.947959 -0.027637 -0.230212\n",
       "2023-03-22  1.352096  1.277883  0.076621  1.380980\n",
       "2023-03-26 -1.203763  1.032355  1.057079  2.088848\n",
       "2023-04-03  0.122823  1.197614 -1.637993 -0.468783\n",
       "2023-04-05 -0.285288  1.611720 -0.833896  0.297218"
      ]
     },
     "execution_count": 185,
     "metadata": {},
     "output_type": "execute_result"
    }
   ],
   "source": [
    "df1.loc[df1['B']>0.9]"
   ]
  },
  {
   "cell_type": "code",
   "execution_count": 186,
   "metadata": {},
   "outputs": [
    {
     "data": {
      "text/html": [
       "<div>\n",
       "<style scoped>\n",
       "    .dataframe tbody tr th:only-of-type {\n",
       "        vertical-align: middle;\n",
       "    }\n",
       "\n",
       "    .dataframe tbody tr th {\n",
       "        vertical-align: top;\n",
       "    }\n",
       "\n",
       "    .dataframe thead th {\n",
       "        text-align: right;\n",
       "    }\n",
       "</style>\n",
       "<table border=\"1\" class=\"dataframe\">\n",
       "  <thead>\n",
       "    <tr style=\"text-align: right;\">\n",
       "      <th></th>\n",
       "      <th>A</th>\n",
       "      <th>B</th>\n",
       "      <th>C</th>\n",
       "      <th>D</th>\n",
       "    </tr>\n",
       "  </thead>\n",
       "  <tbody>\n",
       "    <tr>\n",
       "      <th>2023-01-09</th>\n",
       "      <td>0.657235</td>\n",
       "      <td>-0.719583</td>\n",
       "      <td>1.740565</td>\n",
       "      <td>-0.245770</td>\n",
       "    </tr>\n",
       "    <tr>\n",
       "      <th>2023-01-11</th>\n",
       "      <td>0.459950</td>\n",
       "      <td>0.768001</td>\n",
       "      <td>1.329530</td>\n",
       "      <td>-0.008924</td>\n",
       "    </tr>\n",
       "    <tr>\n",
       "      <th>2023-01-13</th>\n",
       "      <td>0.966036</td>\n",
       "      <td>1.500642</td>\n",
       "      <td>2.773600</td>\n",
       "      <td>0.175904</td>\n",
       "    </tr>\n",
       "    <tr>\n",
       "      <th>2023-01-30</th>\n",
       "      <td>-1.173687</td>\n",
       "      <td>-1.067359</td>\n",
       "      <td>1.858553</td>\n",
       "      <td>-1.399704</td>\n",
       "    </tr>\n",
       "    <tr>\n",
       "      <th>2023-01-31</th>\n",
       "      <td>-0.073176</td>\n",
       "      <td>-0.254697</td>\n",
       "      <td>1.808426</td>\n",
       "      <td>-1.180992</td>\n",
       "    </tr>\n",
       "    <tr>\n",
       "      <th>2023-02-01</th>\n",
       "      <td>0.243577</td>\n",
       "      <td>0.418322</td>\n",
       "      <td>1.152808</td>\n",
       "      <td>-0.710099</td>\n",
       "    </tr>\n",
       "    <tr>\n",
       "      <th>2023-02-03</th>\n",
       "      <td>-2.294819</td>\n",
       "      <td>0.382227</td>\n",
       "      <td>1.108119</td>\n",
       "      <td>-0.461634</td>\n",
       "    </tr>\n",
       "    <tr>\n",
       "      <th>2023-02-08</th>\n",
       "      <td>-0.154289</td>\n",
       "      <td>-0.433926</td>\n",
       "      <td>0.994986</td>\n",
       "      <td>-0.306108</td>\n",
       "    </tr>\n",
       "    <tr>\n",
       "      <th>2023-02-25</th>\n",
       "      <td>1.441330</td>\n",
       "      <td>-0.111319</td>\n",
       "      <td>1.460460</td>\n",
       "      <td>-1.540510</td>\n",
       "    </tr>\n",
       "    <tr>\n",
       "      <th>2023-03-19</th>\n",
       "      <td>2.526156</td>\n",
       "      <td>0.092811</td>\n",
       "      <td>1.816525</td>\n",
       "      <td>-1.172391</td>\n",
       "    </tr>\n",
       "    <tr>\n",
       "      <th>2023-03-26</th>\n",
       "      <td>-1.203763</td>\n",
       "      <td>1.032355</td>\n",
       "      <td>1.057079</td>\n",
       "      <td>2.088848</td>\n",
       "    </tr>\n",
       "  </tbody>\n",
       "</table>\n",
       "</div>"
      ],
      "text/plain": [
       "                   A         B         C         D\n",
       "2023-01-09  0.657235 -0.719583  1.740565 -0.245770\n",
       "2023-01-11  0.459950  0.768001  1.329530 -0.008924\n",
       "2023-01-13  0.966036  1.500642  2.773600  0.175904\n",
       "2023-01-30 -1.173687 -1.067359  1.858553 -1.399704\n",
       "2023-01-31 -0.073176 -0.254697  1.808426 -1.180992\n",
       "2023-02-01  0.243577  0.418322  1.152808 -0.710099\n",
       "2023-02-03 -2.294819  0.382227  1.108119 -0.461634\n",
       "2023-02-08 -0.154289 -0.433926  0.994986 -0.306108\n",
       "2023-02-25  1.441330 -0.111319  1.460460 -1.540510\n",
       "2023-03-19  2.526156  0.092811  1.816525 -1.172391\n",
       "2023-03-26 -1.203763  1.032355  1.057079  2.088848"
      ]
     },
     "execution_count": 186,
     "metadata": {},
     "output_type": "execute_result"
    }
   ],
   "source": [
    "df1.loc[df1['C']>0.9]"
   ]
  },
  {
   "cell_type": "code",
   "execution_count": 187,
   "metadata": {},
   "outputs": [
    {
     "data": {
      "text/html": [
       "<div>\n",
       "<style scoped>\n",
       "    .dataframe tbody tr th:only-of-type {\n",
       "        vertical-align: middle;\n",
       "    }\n",
       "\n",
       "    .dataframe tbody tr th {\n",
       "        vertical-align: top;\n",
       "    }\n",
       "\n",
       "    .dataframe thead th {\n",
       "        text-align: right;\n",
       "    }\n",
       "</style>\n",
       "<table border=\"1\" class=\"dataframe\">\n",
       "  <thead>\n",
       "    <tr style=\"text-align: right;\">\n",
       "      <th></th>\n",
       "      <th>A</th>\n",
       "      <th>B</th>\n",
       "      <th>C</th>\n",
       "      <th>D</th>\n",
       "    </tr>\n",
       "  </thead>\n",
       "  <tbody>\n",
       "    <tr>\n",
       "      <th>2023-01-04</th>\n",
       "      <td>-1.510826</td>\n",
       "      <td>-0.209768</td>\n",
       "      <td>-0.745931</td>\n",
       "      <td>1.061330</td>\n",
       "    </tr>\n",
       "    <tr>\n",
       "      <th>2023-01-22</th>\n",
       "      <td>-0.487490</td>\n",
       "      <td>-0.290270</td>\n",
       "      <td>-0.300457</td>\n",
       "      <td>0.922894</td>\n",
       "    </tr>\n",
       "    <tr>\n",
       "      <th>2023-01-23</th>\n",
       "      <td>0.583497</td>\n",
       "      <td>0.367751</td>\n",
       "      <td>-2.425995</td>\n",
       "      <td>1.172072</td>\n",
       "    </tr>\n",
       "    <tr>\n",
       "      <th>2023-01-26</th>\n",
       "      <td>-2.131603</td>\n",
       "      <td>-1.959836</td>\n",
       "      <td>0.823166</td>\n",
       "      <td>0.964956</td>\n",
       "    </tr>\n",
       "    <tr>\n",
       "      <th>2023-02-04</th>\n",
       "      <td>-0.370455</td>\n",
       "      <td>0.573513</td>\n",
       "      <td>0.740937</td>\n",
       "      <td>2.255042</td>\n",
       "    </tr>\n",
       "    <tr>\n",
       "      <th>2023-02-11</th>\n",
       "      <td>0.524472</td>\n",
       "      <td>1.926718</td>\n",
       "      <td>-0.869045</td>\n",
       "      <td>0.934969</td>\n",
       "    </tr>\n",
       "    <tr>\n",
       "      <th>2023-02-12</th>\n",
       "      <td>0.922884</td>\n",
       "      <td>-0.974392</td>\n",
       "      <td>-0.889681</td>\n",
       "      <td>1.240900</td>\n",
       "    </tr>\n",
       "    <tr>\n",
       "      <th>2023-02-13</th>\n",
       "      <td>-0.474765</td>\n",
       "      <td>1.745003</td>\n",
       "      <td>-1.344110</td>\n",
       "      <td>0.946546</td>\n",
       "    </tr>\n",
       "    <tr>\n",
       "      <th>2023-02-20</th>\n",
       "      <td>-1.281137</td>\n",
       "      <td>-0.640040</td>\n",
       "      <td>0.661411</td>\n",
       "      <td>1.797900</td>\n",
       "    </tr>\n",
       "    <tr>\n",
       "      <th>2023-02-22</th>\n",
       "      <td>-3.153068</td>\n",
       "      <td>-0.713135</td>\n",
       "      <td>-0.454650</td>\n",
       "      <td>1.101051</td>\n",
       "    </tr>\n",
       "    <tr>\n",
       "      <th>2023-02-27</th>\n",
       "      <td>-0.021950</td>\n",
       "      <td>0.951912</td>\n",
       "      <td>0.339829</td>\n",
       "      <td>1.175724</td>\n",
       "    </tr>\n",
       "    <tr>\n",
       "      <th>2023-03-02</th>\n",
       "      <td>0.270333</td>\n",
       "      <td>0.412512</td>\n",
       "      <td>-0.573261</td>\n",
       "      <td>1.459522</td>\n",
       "    </tr>\n",
       "    <tr>\n",
       "      <th>2023-03-06</th>\n",
       "      <td>-0.041217</td>\n",
       "      <td>0.788784</td>\n",
       "      <td>-1.110142</td>\n",
       "      <td>1.854996</td>\n",
       "    </tr>\n",
       "    <tr>\n",
       "      <th>2023-03-08</th>\n",
       "      <td>0.396875</td>\n",
       "      <td>-0.795234</td>\n",
       "      <td>0.440779</td>\n",
       "      <td>1.019876</td>\n",
       "    </tr>\n",
       "    <tr>\n",
       "      <th>2023-03-11</th>\n",
       "      <td>0.038895</td>\n",
       "      <td>0.050404</td>\n",
       "      <td>-0.073205</td>\n",
       "      <td>1.154940</td>\n",
       "    </tr>\n",
       "    <tr>\n",
       "      <th>2023-03-12</th>\n",
       "      <td>-1.295236</td>\n",
       "      <td>0.473244</td>\n",
       "      <td>0.777336</td>\n",
       "      <td>1.224203</td>\n",
       "    </tr>\n",
       "    <tr>\n",
       "      <th>2023-03-22</th>\n",
       "      <td>1.352096</td>\n",
       "      <td>1.277883</td>\n",
       "      <td>0.076621</td>\n",
       "      <td>1.380980</td>\n",
       "    </tr>\n",
       "    <tr>\n",
       "      <th>2023-03-26</th>\n",
       "      <td>-1.203763</td>\n",
       "      <td>1.032355</td>\n",
       "      <td>1.057079</td>\n",
       "      <td>2.088848</td>\n",
       "    </tr>\n",
       "    <tr>\n",
       "      <th>2023-04-04</th>\n",
       "      <td>-1.454140</td>\n",
       "      <td>-0.836532</td>\n",
       "      <td>-0.831738</td>\n",
       "      <td>2.404370</td>\n",
       "    </tr>\n",
       "    <tr>\n",
       "      <th>2023-04-07</th>\n",
       "      <td>-0.485760</td>\n",
       "      <td>0.594956</td>\n",
       "      <td>0.189292</td>\n",
       "      <td>1.099412</td>\n",
       "    </tr>\n",
       "  </tbody>\n",
       "</table>\n",
       "</div>"
      ],
      "text/plain": [
       "                   A         B         C         D\n",
       "2023-01-04 -1.510826 -0.209768 -0.745931  1.061330\n",
       "2023-01-22 -0.487490 -0.290270 -0.300457  0.922894\n",
       "2023-01-23  0.583497  0.367751 -2.425995  1.172072\n",
       "2023-01-26 -2.131603 -1.959836  0.823166  0.964956\n",
       "2023-02-04 -0.370455  0.573513  0.740937  2.255042\n",
       "2023-02-11  0.524472  1.926718 -0.869045  0.934969\n",
       "2023-02-12  0.922884 -0.974392 -0.889681  1.240900\n",
       "2023-02-13 -0.474765  1.745003 -1.344110  0.946546\n",
       "2023-02-20 -1.281137 -0.640040  0.661411  1.797900\n",
       "2023-02-22 -3.153068 -0.713135 -0.454650  1.101051\n",
       "2023-02-27 -0.021950  0.951912  0.339829  1.175724\n",
       "2023-03-02  0.270333  0.412512 -0.573261  1.459522\n",
       "2023-03-06 -0.041217  0.788784 -1.110142  1.854996\n",
       "2023-03-08  0.396875 -0.795234  0.440779  1.019876\n",
       "2023-03-11  0.038895  0.050404 -0.073205  1.154940\n",
       "2023-03-12 -1.295236  0.473244  0.777336  1.224203\n",
       "2023-03-22  1.352096  1.277883  0.076621  1.380980\n",
       "2023-03-26 -1.203763  1.032355  1.057079  2.088848\n",
       "2023-04-04 -1.454140 -0.836532 -0.831738  2.404370\n",
       "2023-04-07 -0.485760  0.594956  0.189292  1.099412"
      ]
     },
     "execution_count": 187,
     "metadata": {},
     "output_type": "execute_result"
    }
   ],
   "source": [
    "df1.loc[df1['D']>0.9]"
   ]
  },
  {
   "cell_type": "code",
   "execution_count": null,
   "metadata": {},
   "outputs": [],
   "source": []
  }
 ],
 "metadata": {
  "kernelspec": {
   "display_name": "myenv",
   "language": "python",
   "name": "python3"
  },
  "language_info": {
   "codemirror_mode": {
    "name": "ipython",
    "version": 3
   },
   "file_extension": ".py",
   "mimetype": "text/x-python",
   "name": "python",
   "nbconvert_exporter": "python",
   "pygments_lexer": "ipython3",
   "version": "3.11.6"
  },
  "orig_nbformat": 4
 },
 "nbformat": 4,
 "nbformat_minor": 2
}
